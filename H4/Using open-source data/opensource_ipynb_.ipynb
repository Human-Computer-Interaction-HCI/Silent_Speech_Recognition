{
  "cells": [
    {
      "cell_type": "code",
      "execution_count": null,
      "metadata": {
        "colab": {
          "base_uri": "https://localhost:8080/"
        },
        "id": "jFKB1nBs1PYG",
        "outputId": "f0d7447d-cf5e-4d0e-a69c-a1d570941ad9"
      },
      "outputs": [
        {
          "output_type": "stream",
          "name": "stdout",
          "text": [
            "Mounted at /content/drive\n"
          ]
        }
      ],
      "source": [
        "from google.colab import drive\n",
        "drive.mount('/content/drive')"
      ]
    },
    {
      "cell_type": "code",
      "execution_count": null,
      "metadata": {
        "id": "hqF7m2_01Z1d"
      },
      "outputs": [],
      "source": [
        "!unzip -q \"/content/drive/MyDrive/2.2.Silent Speech/5-9_silent.zip\" -d \"/content/drive/MyDrive/2.2.Silent Speech\""
      ]
    },
    {
      "cell_type": "code",
      "execution_count": null,
      "metadata": {
        "id": "th0w6Kt96Vd0"
      },
      "outputs": [],
      "source": [
        "import os\n",
        "import json\n",
        "import numpy as np\n",
        "from sklearn.model_selection import train_test_split\n",
        "from tensorflow.keras.models import Sequential\n",
        "from tensorflow.keras.layers import LSTM, Dense\n",
        "from tensorflow.keras.preprocessing.sequence import pad_sequences"
      ]
    },
    {
      "cell_type": "code",
      "execution_count": null,
      "metadata": {
        "colab": {
          "base_uri": "https://localhost:8080/"
        },
        "id": "zz7TJEju4Pdq",
        "outputId": "c35a8d0a-74b9-40eb-99ca-d219a28b2dba"
      },
      "outputs": [
        {
          "output_type": "stream",
          "name": "stdout",
          "text": [
            "Epoch 1/100\n",
            "6/6 [==============================] - 110s 18s/step - loss: 7.0522 - accuracy: 0.0000e+00 - val_loss: 7.0329 - val_accuracy: 0.0000e+00\n",
            "Epoch 2/100\n",
            "6/6 [==============================] - 116s 20s/step - loss: 6.8235 - accuracy: 0.0058 - val_loss: 7.0812 - val_accuracy: 0.0000e+00\n",
            "Epoch 3/100\n",
            "6/6 [==============================] - 116s 20s/step - loss: 6.6102 - accuracy: 0.0058 - val_loss: 7.1576 - val_accuracy: 0.0000e+00\n",
            "Epoch 4/100\n",
            "6/6 [==============================] - 116s 20s/step - loss: 6.3467 - accuracy: 0.0058 - val_loss: 7.3062 - val_accuracy: 0.0000e+00\n",
            "Epoch 5/100\n",
            "6/6 [==============================] - 116s 19s/step - loss: 6.0944 - accuracy: 0.0116 - val_loss: 7.4457 - val_accuracy: 0.0000e+00\n",
            "Epoch 6/100\n",
            "6/6 [==============================] - 116s 20s/step - loss: 5.8977 - accuracy: 0.0116 - val_loss: 7.6079 - val_accuracy: 0.0000e+00\n",
            "Epoch 7/100\n",
            "6/6 [==============================] - 122s 21s/step - loss: 5.7367 - accuracy: 0.0116 - val_loss: 7.7862 - val_accuracy: 0.0000e+00\n",
            "Epoch 8/100\n",
            "6/6 [==============================] - 114s 19s/step - loss: 5.6116 - accuracy: 0.0116 - val_loss: 7.9671 - val_accuracy: 0.0000e+00\n",
            "Epoch 9/100\n",
            "6/6 [==============================] - 109s 18s/step - loss: 5.5163 - accuracy: 0.0116 - val_loss: 8.1404 - val_accuracy: 0.0000e+00\n",
            "Epoch 10/100\n",
            "6/6 [==============================] - 105s 18s/step - loss: 5.4452 - accuracy: 0.0116 - val_loss: 8.3028 - val_accuracy: 0.0000e+00\n",
            "Epoch 11/100\n",
            "6/6 [==============================] - 117s 20s/step - loss: 5.3905 - accuracy: 0.0116 - val_loss: 8.4529 - val_accuracy: 0.0000e+00\n",
            "Epoch 12/100\n",
            "6/6 [==============================] - 115s 20s/step - loss: 5.3500 - accuracy: 0.0116 - val_loss: 8.5903 - val_accuracy: 0.0000e+00\n",
            "Epoch 13/100\n",
            "6/6 [==============================] - 117s 20s/step - loss: 5.3157 - accuracy: 0.0116 - val_loss: 8.7163 - val_accuracy: 0.0000e+00\n",
            "Epoch 14/100\n",
            "6/6 [==============================] - 114s 20s/step - loss: 5.2887 - accuracy: 0.0116 - val_loss: 8.8319 - val_accuracy: 0.0000e+00\n",
            "Epoch 15/100\n",
            "6/6 [==============================] - 113s 19s/step - loss: 5.2681 - accuracy: 0.0058 - val_loss: 8.9377 - val_accuracy: 0.0000e+00\n",
            "Epoch 16/100\n",
            "6/6 [==============================] - 106s 18s/step - loss: 5.2492 - accuracy: 0.0116 - val_loss: 9.0358 - val_accuracy: 0.0000e+00\n",
            "Epoch 17/100\n",
            "6/6 [==============================] - 113s 19s/step - loss: 5.2353 - accuracy: 0.0116 - val_loss: 9.1267 - val_accuracy: 0.0000e+00\n",
            "Epoch 18/100\n",
            "6/6 [==============================] - 118s 20s/step - loss: 5.2221 - accuracy: 0.0116 - val_loss: 9.2117 - val_accuracy: 0.0000e+00\n",
            "Epoch 19/100\n",
            "6/6 [==============================] - 113s 19s/step - loss: 5.2100 - accuracy: 0.0116 - val_loss: 9.2919 - val_accuracy: 0.0000e+00\n",
            "Epoch 20/100\n",
            "6/6 [==============================] - 119s 20s/step - loss: 5.2003 - accuracy: 0.0174 - val_loss: 9.3674 - val_accuracy: 0.0000e+00\n",
            "Epoch 21/100\n",
            "6/6 [==============================] - 114s 20s/step - loss: 5.1904 - accuracy: 0.0116 - val_loss: 9.4389 - val_accuracy: 0.0000e+00\n",
            "Epoch 22/100\n",
            "6/6 [==============================] - 109s 18s/step - loss: 5.1820 - accuracy: 0.0116 - val_loss: 9.5067 - val_accuracy: 0.0000e+00\n",
            "Epoch 23/100\n",
            "6/6 [==============================] - 120s 21s/step - loss: 5.1742 - accuracy: 0.0116 - val_loss: 9.5715 - val_accuracy: 0.0000e+00\n",
            "Epoch 24/100\n",
            "6/6 [==============================] - 116s 20s/step - loss: 5.1677 - accuracy: 0.0116 - val_loss: 9.6334 - val_accuracy: 0.0000e+00\n",
            "Epoch 25/100\n",
            "6/6 [==============================] - 113s 19s/step - loss: 5.1607 - accuracy: 0.0116 - val_loss: 9.6926 - val_accuracy: 0.0000e+00\n",
            "Epoch 26/100\n",
            "6/6 [==============================] - 117s 20s/step - loss: 5.1535 - accuracy: 0.0116 - val_loss: 9.7500 - val_accuracy: 0.0000e+00\n",
            "Epoch 27/100\n",
            "6/6 [==============================] - 113s 19s/step - loss: 5.1489 - accuracy: 0.0116 - val_loss: 9.8048 - val_accuracy: 0.0000e+00\n",
            "Epoch 28/100\n",
            "6/6 [==============================] - 113s 19s/step - loss: 5.1429 - accuracy: 0.0174 - val_loss: 9.8576 - val_accuracy: 0.0000e+00\n",
            "Epoch 29/100\n",
            "6/6 [==============================] - 115s 20s/step - loss: 5.1390 - accuracy: 0.0116 - val_loss: 9.9086 - val_accuracy: 0.0000e+00\n",
            "Epoch 30/100\n",
            "6/6 [==============================] - 114s 19s/step - loss: 5.1339 - accuracy: 0.0174 - val_loss: 9.9579 - val_accuracy: 0.0000e+00\n",
            "Epoch 31/100\n",
            "6/6 [==============================] - 114s 20s/step - loss: 5.1293 - accuracy: 0.0174 - val_loss: 10.0054 - val_accuracy: 0.0000e+00\n",
            "Epoch 32/100\n",
            "6/6 [==============================] - 115s 20s/step - loss: 5.1246 - accuracy: 0.0174 - val_loss: 10.0513 - val_accuracy: 0.0000e+00\n",
            "Epoch 33/100\n",
            "6/6 [==============================] - 114s 20s/step - loss: 5.1204 - accuracy: 0.0174 - val_loss: 10.0955 - val_accuracy: 0.0000e+00\n",
            "Epoch 34/100\n",
            "6/6 [==============================] - 106s 18s/step - loss: 5.1155 - accuracy: 0.0174 - val_loss: 10.1387 - val_accuracy: 0.0000e+00\n",
            "Epoch 35/100\n",
            "6/6 [==============================] - 113s 19s/step - loss: 5.1117 - accuracy: 0.0058 - val_loss: 10.1807 - val_accuracy: 0.0000e+00\n",
            "Epoch 36/100\n",
            "6/6 [==============================] - 113s 19s/step - loss: 5.1080 - accuracy: 0.0174 - val_loss: 10.2216 - val_accuracy: 0.0000e+00\n",
            "Epoch 37/100\n",
            "6/6 [==============================] - 118s 20s/step - loss: 5.1049 - accuracy: 0.0174 - val_loss: 10.2616 - val_accuracy: 0.0000e+00\n",
            "Epoch 38/100\n",
            "6/6 [==============================] - 113s 19s/step - loss: 5.1007 - accuracy: 0.0116 - val_loss: 10.3003 - val_accuracy: 0.0000e+00\n",
            "Epoch 39/100\n",
            "6/6 [==============================] - 116s 20s/step - loss: 5.0989 - accuracy: 0.0116 - val_loss: 10.3380 - val_accuracy: 0.0000e+00\n",
            "Epoch 40/100\n",
            "6/6 [==============================] - 114s 20s/step - loss: 5.0951 - accuracy: 0.0174 - val_loss: 10.3748 - val_accuracy: 0.0000e+00\n",
            "Epoch 41/100\n",
            "6/6 [==============================] - 116s 20s/step - loss: 5.0913 - accuracy: 0.0174 - val_loss: 10.4105 - val_accuracy: 0.0000e+00\n",
            "Epoch 42/100\n",
            "6/6 [==============================] - 106s 18s/step - loss: 5.0874 - accuracy: 0.0174 - val_loss: 10.4457 - val_accuracy: 0.0000e+00\n",
            "Epoch 43/100\n",
            "6/6 [==============================] - 118s 20s/step - loss: 5.0849 - accuracy: 0.0174 - val_loss: 10.4802 - val_accuracy: 0.0000e+00\n",
            "Epoch 44/100\n",
            "6/6 [==============================] - 115s 20s/step - loss: 5.0811 - accuracy: 0.0174 - val_loss: 10.5139 - val_accuracy: 0.0000e+00\n",
            "Epoch 45/100\n",
            "6/6 [==============================] - 119s 20s/step - loss: 5.0778 - accuracy: 0.0174 - val_loss: 10.5468 - val_accuracy: 0.0000e+00\n",
            "Epoch 46/100\n",
            "6/6 [==============================] - 114s 20s/step - loss: 5.0738 - accuracy: 0.0116 - val_loss: 10.5791 - val_accuracy: 0.0000e+00\n",
            "Epoch 47/100\n",
            "6/6 [==============================] - 109s 19s/step - loss: 5.0721 - accuracy: 0.0174 - val_loss: 10.6106 - val_accuracy: 0.0000e+00\n",
            "Epoch 48/100\n",
            "6/6 [==============================] - 114s 19s/step - loss: 5.0687 - accuracy: 0.0174 - val_loss: 10.6416 - val_accuracy: 0.0000e+00\n",
            "Epoch 49/100\n",
            "6/6 [==============================] - 117s 20s/step - loss: 5.0659 - accuracy: 0.0174 - val_loss: 10.6721 - val_accuracy: 0.0000e+00\n",
            "Epoch 50/100\n",
            "6/6 [==============================] - 113s 19s/step - loss: 5.0638 - accuracy: 0.0174 - val_loss: 10.7018 - val_accuracy: 0.0000e+00\n",
            "Epoch 51/100\n",
            "6/6 [==============================] - 118s 20s/step - loss: 5.0606 - accuracy: 0.0174 - val_loss: 10.7310 - val_accuracy: 0.0000e+00\n",
            "Epoch 52/100\n",
            "6/6 [==============================] - 114s 19s/step - loss: 5.0581 - accuracy: 0.0116 - val_loss: 10.7595 - val_accuracy: 0.0000e+00\n",
            "Epoch 53/100\n",
            "6/6 [==============================] - 119s 20s/step - loss: 5.0546 - accuracy: 0.0116 - val_loss: 10.7874 - val_accuracy: 0.0000e+00\n",
            "Epoch 54/100\n",
            "6/6 [==============================] - 114s 20s/step - loss: 5.0525 - accuracy: 0.0058 - val_loss: 10.8151 - val_accuracy: 0.0000e+00\n",
            "Epoch 55/100\n",
            "6/6 [==============================] - 118s 20s/step - loss: 5.0499 - accuracy: 0.0174 - val_loss: 10.8426 - val_accuracy: 0.0000e+00\n",
            "Epoch 56/100\n",
            "6/6 [==============================] - 117s 20s/step - loss: 5.0475 - accuracy: 0.0174 - val_loss: 10.8694 - val_accuracy: 0.0000e+00\n",
            "Epoch 57/100\n",
            "6/6 [==============================] - 123s 21s/step - loss: 5.0456 - accuracy: 0.0174 - val_loss: 10.8954 - val_accuracy: 0.0000e+00\n",
            "Epoch 58/100\n",
            "6/6 [==============================] - 123s 21s/step - loss: 5.0416 - accuracy: 0.0174 - val_loss: 10.9210 - val_accuracy: 0.0000e+00\n",
            "Epoch 59/100\n",
            "6/6 [==============================] - 120s 21s/step - loss: 5.0393 - accuracy: 0.0174 - val_loss: 10.9466 - val_accuracy: 0.0000e+00\n",
            "Epoch 60/100\n",
            "1/6 [====>.........................] - ETA: 1:35 - loss: 5.0446 - accuracy: 0.0312"
          ]
        }
      ],
      "source": [
        "# Set the working directory\n",
        "os.chdir('/content/drive/MyDrive/2.2.Silent Speech/5-9_silent')\n",
        "\n",
        "# Load the data\n",
        "X, y = [], []\n",
        "for file in os.listdir():\n",
        "    if file.endswith('_emg.npy'):\n",
        "        # Extract the label from the corresponding json file\n",
        "        with open(file.replace('_emg.npy', '_info.json'), 'r') as f:\n",
        "            info = json.load(f)\n",
        "            sentence_index = info['sentence_index']\n",
        "            # Exclude samples with sentence_index -1\n",
        "            if sentence_index != -1:\n",
        "                emg = np.load(file)\n",
        "                X.append(emg)\n",
        "                y.append(sentence_index)\n",
        "\n",
        "# Pad sequences to the same length\n",
        "X = pad_sequences(X)\n",
        "\n",
        "# Split the data into training and testing sets\n",
        "X_train, X_test, y_train, y_test = train_test_split(X, y, test_size=0.2, random_state=42)\n",
        "\n",
        "# Define the model\n",
        "model = Sequential()\n",
        "model.add(LSTM(100, input_shape=(None, 8)))\n",
        "\n",
        "# Adjust the number of units in the output layer to match the number of classes in your labels\n",
        "num_classes = max(y) + 1  # Assuming labels start from 0\n",
        "model.add(Dense(num_classes, activation='softmax'))  # Use softmax for multi-class classification\n",
        "\n",
        "# Compile the model\n",
        "model.compile(loss='sparse_categorical_crossentropy', optimizer='adam', metrics=['accuracy'])\n",
        "\n",
        "# Train the model\n",
        "# Train the model and save the history\n",
        "history = model.fit(np.array(X_train), np.array(y_train), epochs=100, validation_data=(np.array(X_test), np.array(y_test)))"
      ]
    },
    {
      "cell_type": "code",
      "execution_count": null,
      "metadata": {
        "id": "vj8Doppz4yn2"
      },
      "outputs": [],
      "source": [
        "# Import matplotlib\n",
        "import matplotlib.pyplot as plt\n",
        "\n",
        "# Plot training & validation accuracy values\n",
        "plt.figure(figsize=(12, 6))\n",
        "plt.subplot(1, 2, 1)\n",
        "plt.plot(history.history['accuracy'])\n",
        "plt.plot(history.history['val_accuracy'])\n",
        "plt.title('Model accuracy')\n",
        "plt.ylabel('Accuracy')\n",
        "plt.xlabel('Epoch')\n",
        "plt.legend(['Train', 'Test'], loc='upper left')\n",
        "\n",
        "# Plot training & validation loss values\n",
        "plt.subplot(1, 2, 2)\n",
        "plt.plot(history.history['loss'])\n",
        "plt.plot(history.history['val_loss'])\n",
        "plt.title('Model loss')\n",
        "plt.ylabel('Loss')\n",
        "plt.xlabel('Epoch')\n",
        "plt.legend(['Train', 'Test'], loc='upper left')\n",
        "\n",
        "plt.tight_layout()\n",
        "plt.show()"
      ]
    },
    {
      "cell_type": "code",
      "execution_count": null,
      "metadata": {
        "id": "NACtGqHz5zKa"
      },
      "outputs": [],
      "source": [
        "# Evaluate the model\n",
        "loss, accuracy = model.evaluate(np.array(X_test), np.array(y_test), verbose=0)\n",
        "\n",
        "print(f'Test loss: {loss:.3f}')\n",
        "print(f'Test accuracy: {accuracy:.3f}')\n"
      ]
    },
    {
      "cell_type": "code",
      "execution_count": null,
      "metadata": {
        "id": "oUwTvClh5026"
      },
      "outputs": [],
      "source": [
        "# Make a prediction\n",
        "prediction = model.predict(np.array([X_test[0]]))\n",
        "\n",
        "# The prediction is an array of probabilities for each class, so we take the class with the highest probability\n",
        "predicted_class = np.argmax(prediction)\n",
        "\n",
        "print(f'Predicted class: {predicted_class}')\n"
      ]
    },
    {
      "cell_type": "code",
      "execution_count": null,
      "metadata": {
        "id": "43_FjpnZ59r1"
      },
      "outputs": [],
      "source": [
        "# Save the model\n",
        "model.save('/content/sample_data/my_model.h5')\n"
      ]
    },
    {
      "cell_type": "code",
      "execution_count": 1,
      "metadata": {
        "id": "3F7WsQa46BfM"
      },
      "outputs": [],
      "source": [
        "from tensorflow.keras.models import load_model\n",
        "\n",
        "# Load the model\n",
        "loaded_model = load_model('/content/sample_data/my_model.h5')\n"
      ]
    },
    {
      "cell_type": "code",
      "execution_count": 2,
      "metadata": {
        "id": "vrjDzFGA6LC9"
      },
      "outputs": [],
      "source": [
        "import tensorflow as tf\n",
        "\n",
        "# Create a converter object from the Keras model\n",
        "converter = tf.lite.TFLiteConverter.from_keras_model(loaded_model)\n",
        "\n",
        "# Set the supported operations to include TensorFlow operations\n",
        "converter.target_spec.supported_ops = [\n",
        "    tf.lite.OpsSet.TFLITE_BUILTINS,  # TFLite default operations\n",
        "    tf.lite.OpsSet.SELECT_TF_OPS     # Enable TensorFlow operations\n",
        "]\n",
        "\n",
        "# Disable the experimental flag for lowering tensor list operations\n",
        "converter._experimental_lower_tensor_list_ops = False\n",
        "\n",
        "# Convert the model\n",
        "tflite_model = converter.convert()\n",
        "\n",
        "# Save the model to a file\n",
        "with open('model.tflite', 'wb') as f:\n",
        "    f.write(tflite_model)\n"
      ]
    }
  ],
  "metadata": {
    "colab": {
      "provenance": []
    },
    "kernelspec": {
      "display_name": "Python 3",
      "name": "python3"
    },
    "language_info": {
      "name": "python"
    }
  },
  "nbformat": 4,
  "nbformat_minor": 0
}